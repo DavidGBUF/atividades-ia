{
 "cells": [
  {
   "cell_type": "markdown",
   "id": "7a72c5d7",
   "metadata": {},
   "source": [
    "Este trecho importa quatro bibliotecas essenciais:\n",
    "\n",
    "1. **random**: Gera números aleatórios para simulações e amostras.\n",
    "2. **copy**: Usada para copiar objetos.\n",
    "2. **time**: Trabalha com o tempo, útil para medir o tempo de execução ou criar pausas no código.\n",
    "3. **numpy (np)**: Realiza operações matemáticas e manipulação de arrays de forma eficiente.\n",
    "4. **matplotlib.pyplot (plt)**: Cria gráficos e visualizações de dados de maneira simples.\n",
    "\n",
    "Essas bibliotecas são fundamentais em análises de dados e simulações.\n"
   ]
  },
  {
   "cell_type": "code",
   "execution_count": 72,
   "id": "f037086e",
   "metadata": {},
   "outputs": [],
   "source": [
    "import random\n",
    "import copy\n",
    "import time\n",
    "import numpy as np\n",
    "import matplotlib.pyplot as plt"
   ]
  },
  {
   "cell_type": "markdown",
   "id": "08dd69a2",
   "metadata": {},
   "source": [
    "A função `calcular_conflitos` calcula o número de \"conflitos\" em uma solução.\n",
    "\n",
    "- **Entrada**: Recebe uma lista `tabuleiro`, onde cada índice representa uma linha e o valor no índice representa a coluna de uma rainha.\n",
    "- **Processo**:\n",
    "  - Itera sobre todos os pares de rainhas (i, j) para verificar:\n",
    "    - Se estão na mesma linha (`tabuleiro[i] == tabuleiro[j]`).\n",
    "    - Se estão na mesma diagonal (`abs(tabuleiro[i] - tabuleiro[j]) == abs(i - j)`).\n",
    "  - Incrementa `conflitos` para cada conflito detectado.\n",
    "- **Saída**: Retorna o valor total de conflitos.\n",
    "\n",
    "Essa função é útil para avaliar a qualidade de uma solução no contexto de problemas de otimização.\n"
   ]
  },
  {
   "cell_type": "code",
   "execution_count": 73,
   "id": "f78c2e4e",
   "metadata": {},
   "outputs": [],
   "source": [
    "def calcular_conflitos(tabuleiro):\n",
    "    conflitos = 0\n",
    "    n = len(tabuleiro) \n",
    "\n",
    "    for i in range(n):\n",
    "        for j in range(i + 1, n): \n",
    "            if tabuleiro[i] == tabuleiro[j]: # Conflito na mesma linha\n",
    "                conflitos += 1\n",
    "            if abs(tabuleiro[i] - tabuleiro[j]) == abs(i - j): # Conflito na mesma diagonal\n",
    "                conflitos += 1\n",
    "\n",
    "    return conflitos"
   ]
  },
  {
   "cell_type": "markdown",
   "id": "9ff73835",
   "metadata": {},
   "source": [
    "A função `gerar_vizinho` cria uma derivação aleatória do tabuleiro atual.\n",
    "\n",
    "- **Entrada**:\n",
    "  - `tabuleiro`: posição atual das rainhas no tabuleiro.\n",
    "- **Processo**:\n",
    "  - Faz uma cópia do tabuleiro atual.\n",
    "  - Utiliza `random.randint` no intervalo de 0 até n -1 para escolher aleatoriamente uma rainha (coluna) para mover de posição (linha).\n",
    "  - Garante que a nova linha seja diferente da linha atual.\n",
    "- **Saída**: Retorna uma lista com o vizinho gerado, onde cada elemento é uma solução possível.\n",
    "\n",
    "Essa função é útil para encontrar novas possíveis soluções.\n"
   ]
  },
  {
   "cell_type": "code",
   "execution_count": 74,
   "id": "85eabe86",
   "metadata": {},
   "outputs": [],
   "source": [
    "def gerar_vizinho(tabuleiro):\n",
    "    n = len(tabuleiro)\n",
    "    novoTabuleiro = copy.copy(tabuleiro) \n",
    "\n",
    "    coluna = random.randint(0, n - 1) # Escolhe aleatoriamente uma coluna para mover a rainha\n",
    "    linha = random.randint(0, n - 1) # Escolhe aleatoriamente uma nova linha para a rainha na coluna selecionada\n",
    "\n",
    "    while novoTabuleiro[coluna] == linha: # Garante que a nova linha seja diferente da linha atual da rainha na coluna escolhida\n",
    "        linha = random.randint(0, n - 1)\n",
    "    \n",
    "    novoTabuleiro[coluna] = linha\n",
    "    return novoTabuleiro"
   ]
  },
  {
   "cell_type": "markdown",
   "id": "30fdb197",
   "metadata": {},
   "source": [
    "A função `stochastic_hill_climbing` é a função principal do algoritmo de busca local.\n",
    "\n",
    "- **Entrada**:\n",
    "  - `iteracoes`: número de iterações máximo que o algoritmo fará, valor padrão é 1000.\n",
    "- **Processo**:\n",
    "  - Gera um tabuleiro aleatoriamente, nesse caso de tamanho 8.\n",
    "  - Realiza o cálculo de quantos conflitos há no tabuleiro, por meio do método `calcular_conflitos`\n",
    "  - Inicia a contagem do tempo de execução do algoritmo.\n",
    "  - Repetidademente, gera vizinhos e calcula a nova quantidade de conflitos\n",
    "      - Caso seja uma solução mais promissora, atualiza o tabuleiro e os conflitos\n",
    "      - Esse processo se repete até que se encontre uma solução sem conflitos ou o número de iterações máximo seja atingido\n",
    "- **Saída**: Retorna uma solução, a quantidade de conflitos, o tempo de execução e quantas iterações foram feitas."
   ]
  },
  {
   "cell_type": "code",
   "execution_count": 75,
   "id": "8f3d9cee",
   "metadata": {},
   "outputs": [],
   "source": [
    "def stochastic_hill_climbing(iteracoes=1000):\n",
    "    tabuleiro = [random.randint(0, 7) for _ in range(8)]\n",
    "    conflitos = calcular_conflitos(tabuleiro)\n",
    "    tempo_inicial = time.time()\n",
    "    tempo_execucao = 0\n",
    "\n",
    "    for i in range(iteracoes):\n",
    "        if conflitos == 0:  # Se encontrou uma solução sem conflitos, para\n",
    "            break\n",
    "        \n",
    "        vizinho = gerar_vizinho(tabuleiro)\n",
    "        novosConflitos = calcular_conflitos(vizinho)\n",
    "\n",
    "        if novosConflitos < conflitos: # Se encontrou uma combinação diferente com menos conflitos, atualiza o tabuleiro\n",
    "            tabuleiro = vizinho\n",
    "            conflitos = novosConflitos\n",
    "    tempo_execucao = time.time() - tempo_inicial\n",
    "    return tabuleiro, conflitos, tempo_execucao, i"
   ]
  },
  {
   "cell_type": "markdown",
   "id": "a9770d35",
   "metadata": {},
   "source": [
    "### Fluxo do Hill Climbing Stochastic"
   ]
  },
  {
   "cell_type": "markdown",
   "id": "b612057e",
   "metadata": {},
   "source": [
    "### Execução Repetida do Hill Climbing Stochastic e Análise dos Resultados\n",
    "\n",
    "1. **Execução do Algoritmo**:\n",
    "   - O algoritmo é executado 50 vezes.\n",
    "   - A cada execução, são armazenados:\n",
    "     - O número de conflitos (`conflitos`).\n",
    "     - O tempo de execução (`tempos`).\n",
    "     - O número de iterações (`iteracoes`).\n",
    "\n",
    "2. **Cálculos Estatísticos**:\n",
    "   - **Média e Desvio Padrão**:\n",
    "     - A média e o desvio padrão do número de conflitos, de iterações e do tempo de execução são calculados utilizando o `numpy`.\n",
    "     - **Exibição**: São impressos os valores da média e desvio padrão de conflitos, de iterações e do tempo de execução.\n",
    "   \n",
    "3. **Visualização**:\n",
    "   - **Gráfico do Número de Conflitos**:\n",
    "     - Um histograma é gerado para mostrar a distribuição do número de conflitos.\n",
    "   - **Gráfico do Tempo de Execução**:\n",
    "     - Um histograma é gerado para mostrar a distribuição do tempo de execução.\n",
    "   - **Gráfico do Número de Iterações**:\n",
    "     - Um histograma é gerado para mostrar a distribuição do número de iterações.\n",
    "\n",
    "### Resultados:\n",
    "- **Média e Desvio Padrão**:\n",
    "  - A média e o desvio padrão dos conflitos, do tempo de execução e das iterações ajudam a entender a consistência do algoritmo.\n",
    "  \n",
    "### Gráficos:\n",
    "- **Histograma do Número de Conflitos**:\n",
    "  - Mostra a distribuição do número de conflitos encontrados em cada execução.\n",
    "- **Histograma do Tempo de Execução**:\n",
    "  - Mostra a distribuição do tempo de execução do algoritmo em cada execução.\n",
    "- **Histograma do Número de Iterações**:\n",
    "  - Mostra a distribuição do número de iterações realizadas em cada execução.\n"
   ]
  },
  {
   "cell_type": "code",
   "execution_count": 76,
   "id": "ca7c1cd3",
   "metadata": {},
   "outputs": [
    {
     "name": "stdout",
     "output_type": "stream",
     "text": [
      "Execução 0\n",
      "Execução 1\n",
      "Execução 2\n",
      "Execução 3\n",
      "Execução 4\n",
      "Execução 5\n",
      "Execução 6\n",
      "Execução 7\n",
      "Execução 8\n",
      "Execução 9\n",
      "Execução 10\n",
      "Execução 11\n",
      "Execução 12\n",
      "Execução 13\n",
      "Execução 14\n",
      "Execução 15\n",
      "Execução 16\n",
      "Execução 17\n",
      "Execução 18\n",
      "Execução 19\n",
      "Execução 20\n",
      "Execução 21\n",
      "Execução 22\n",
      "Execução 23\n",
      "Execução 24\n",
      "Execução 25\n",
      "Execução 26\n",
      "Execução 27\n",
      "Execução 28\n",
      "Execução 29\n",
      "Execução 30\n",
      "Execução 31\n",
      "Execução 32\n",
      "Execução 33\n",
      "Execução 34\n",
      "Execução 35\n",
      "Execução 36\n",
      "Execução 37\n",
      "Execução 38\n",
      "Execução 39\n",
      "Execução 40\n",
      "Execução 41\n",
      "Execução 42\n",
      "Execução 43\n",
      "Execução 44\n",
      "Execução 45\n",
      "Execução 46\n",
      "Execução 47\n",
      "Execução 48\n",
      "Execução 49\n",
      "Média de conflitos: 1.38\n",
      "Desvio padrão de conflitos: 0.7453858061433689\n",
      "Média do tempo de execução: 0.0033 segundos\n",
      "Desvio padrão do tempo de execução: 0.0010 segundos\n",
      "Média de iterações: 908.14\n",
      "Desvio padrão de iterações: 273.2902493686886\n"
     ]
    },
    {
     "data": {
      "image/png": "[encoded data removed]",
      "text/plain": [
       "<Figure size 1000x500 with 1 Axes>"
      ]
     },
     "metadata": {},
     "output_type": "display_data"
    },
    {
     "data": {
      "image/png": "[encoded data removed]",
      "text/plain": [
       "<Figure size 1000x500 with 1 Axes>"
      ]
     },
     "metadata": {},
     "output_type": "display_data"
    },
    {
     "data": {
      "image/png": "[encoded data removed]",
      "text/plain": [
       "<Figure size 1000x500 with 1 Axes>"
      ]
     },
     "metadata": {},
     "output_type": "display_data"
    }
   ],
   "source": [
    "# Executar 50 vezes\n",
    "solucoes = []\n",
    "conflitos = []\n",
    "tempos = []\n",
    "iteracoes = []\n",
    "\n",
    "for i in range(50):\n",
    "    print(f\"Execução {i}\")\n",
    "    solucao, totalConflitos, tempo, i = stochastic_hill_climbing()\n",
    "    solucoes.append(solucao)\n",
    "    conflitos.append(totalConflitos)\n",
    "    tempos.append(tempo)\n",
    "    iteracoes.append(i)\n",
    "\n",
    "# Calcular médias e desvios padrão\n",
    "media_conflitos = np.mean(conflitos)\n",
    "desvio_conflitos = np.std(conflitos)\n",
    "\n",
    "media_tempos = np.mean(tempos)\n",
    "desvio_tempos = np.std(tempos)\n",
    "\n",
    "media_iteracoes = np.mean(iteracoes)\n",
    "desvio_iteracoes = np.std(iteracoes)\n",
    "\n",
    "print(f'Média de conflitos: {media_conflitos}')\n",
    "print(f'Desvio padrão de conflitos: {desvio_conflitos}')\n",
    "\n",
    "print(f'Média do tempo de execução: {media_tempos:.4f} segundos')\n",
    "print(f'Desvio padrão do tempo de execução: {desvio_tempos:.4f} segundos')\n",
    "\n",
    "print(f'Média de iterações: {media_iteracoes}')\n",
    "print(f'Desvio padrão de iterações: {desvio_iteracoes}')\n",
    "\n",
    "\n",
    "# Gráfico do número de conflitos\n",
    "plt.figure(figsize=(10, 5))\n",
    "plt.hist(conflitos, bins=15, color='salmon', edgecolor='black')\n",
    "plt.title(\"Distribuição do número de conflitos\")\n",
    "plt.xlabel(\"Conflitos\")\n",
    "plt.ylabel(\"Frequência\")\n",
    "plt.show()\n",
    "\n",
    "# Gráfico do tempo de execução\n",
    "plt.figure(figsize=(10, 5))\n",
    "plt.hist(tempos, bins=15, color='salmon', edgecolor='black')\n",
    "plt.title(\"Distribuição do tempo de execução\")\n",
    "plt.xlabel(\"Tempo (segundos)\")\n",
    "plt.ylabel(\"Frequência\")\n",
    "plt.show()\n",
    "\n",
    "# Gráfico do número de iterações\n",
    "plt.figure(figsize=(10, 5))\n",
    "plt.hist(iteracoes, bins=15, color='skyblue', edgecolor='black')\n",
    "plt.title(\"Distribuição do número de iterações\")\n",
    "plt.xlabel(\"Número de iterações\")\n",
    "plt.ylabel(\"Frequência\")\n",
    "plt.show()"
   ]
  },
  {
   "cell_type": "markdown",
   "id": "584930d8",
   "metadata": {},
   "source": [
    "### Melhores Soluções alcançadas\n",
    "\n",
    "- **Cinco Melhores Soluções**:\n",
    "  - As melhores soluções são aquelas que apresentam o menor número de conflitos, indicando que o algoritmo encontrou soluções mais próximas da ideal.\n",
    "  - Foram encontradas ordenando as soluções pelo número de conflitos e selecionando as 5 primeiras do vetor gerado."
   ]
  },
  {
   "cell_type": "code",
   "execution_count": 77,
   "id": "c6d32f3a",
   "metadata": {},
   "outputs": [
    {
     "name": "stdout",
     "output_type": "stream",
     "text": [
      "Soluções ótimas\n",
      "Solução 1: [3, 7, 0, 2, 5, 1, 6, 4]\n",
      "Solução 2: [4, 2, 0, 5, 7, 1, 3, 6]\n",
      "Solução 3: [4, 2, 0, 5, 7, 1, 3, 6]\n",
      "Solução 4: [4, 1, 3, 5, 7, 2, 0, 6]\n",
      "Solução 5: [4, 6, 3, 0, 2, 7, 5, 1]\n"
     ]
    }
   ],
   "source": [
    "solucoes_otimas = sorted(zip(solucoes, conflitos), key= lambda x: x[1])\n",
    "sol = []\n",
    "for s in solucoes_otimas:\n",
    "    if s[0] not in sol:\n",
    "        sol.append(s)\n",
    "\n",
    "print(\"Soluções ótimas\")\n",
    "sol = sol[:5]\n",
    "for i in range(len(sol)):\n",
    "    print(f\"Solução {i+1}: {sol[i][0]}\")"
   ]
  }
 ],
 "metadata": {
  "kernelspec": {
   "display_name": "Python 3",
   "language": "python",
   "name": "python3"
  },
  "language_info": {
   "codemirror_mode": {
    "name": "ipython",
    "version": 3
   },
   "file_extension": ".py",
   "mimetype": "text/x-python",
   "name": "python",
   "nbconvert_exporter": "python",
   "pygments_lexer": "ipython3",
   "version": "3.13.4"
  }
 },
 "nbformat": 4,
 "nbformat_minor": 5
}
